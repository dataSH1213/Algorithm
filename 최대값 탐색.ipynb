{
 "cells": [
  {
   "cell_type": "markdown",
   "metadata": {},
   "source": [
    "# 최대값을 찾는 알고리즘\n",
    "\n",
    "2022.07.22 민수홍"
   ]
  },
  {
   "cell_type": "code",
   "execution_count": 18,
   "metadata": {},
   "outputs": [
    {
     "name": "stdout",
     "output_type": "stream",
     "text": [
      "최대값 :  31\n"
     ]
    }
   ],
   "source": [
    "li = [3, 21, 5, 11, 23, 11, 25, 31]\n",
    "print('최대값 : ', max(li))"
   ]
  },
  {
   "cell_type": "code",
   "execution_count": 20,
   "metadata": {},
   "outputs": [
    {
     "name": "stdout",
     "output_type": "stream",
     "text": [
      "최대값 :  31\n"
     ]
    }
   ],
   "source": [
    "i = 0 # 반복 횟수\n",
    "max_num = li[i] # 최대값 저장용 변수\n",
    "while True :\n",
    "    \n",
    "    if li[i] > max_num :\n",
    "        max_num = li[i]\n",
    "\n",
    "    i = i + 1\n",
    "    # 종료 조건\n",
    "    if i >= len(li) :\n",
    "        break\n",
    "        \n",
    "print('최대값 : ', max_num)"
   ]
  }
 ],
 "metadata": {
  "kernelspec": {
   "display_name": "Python 3",
   "language": "python",
   "name": "python3"
  },
  "language_info": {
   "codemirror_mode": {
    "name": "ipython",
    "version": 3
   },
   "file_extension": ".py",
   "mimetype": "text/x-python",
   "name": "python",
   "nbconvert_exporter": "python",
   "pygments_lexer": "ipython3",
   "version": "3.8.3"
  }
 },
 "nbformat": 4,
 "nbformat_minor": 4
}
